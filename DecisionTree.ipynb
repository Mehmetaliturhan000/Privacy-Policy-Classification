{
 "cells": [
  {
   "cell_type": "code",
   "execution_count": 1,
   "id": "2c0bd40c",
   "metadata": {},
   "outputs": [
    {
     "name": "stdout",
     "output_type": "stream",
     "text": [
      "Confusion Matrix\n",
      "[[39 23]\n",
      " [29 51]]\n",
      "---------\n",
      "Classification Accuracy\n",
      "0.6338028169014085\n",
      "---------\n",
      "Precision Score\n",
      "0.6313593004769475\n",
      "---------\n",
      "Recall Score\n",
      "0.6332661290322581\n",
      "---------\n",
      "F1 Score\n",
      "0.631168831168831\n",
      "---------\n"
     ]
    }
   ],
   "source": [
    "import numpy as np\n",
    "import pandas as pd\n",
    "import matplotlib.pyplot as plt\n",
    "from sklearn.model_selection import train_test_split\n",
    "from sklearn.tree import DecisionTreeClassifier\n",
    "from sklearn.feature_extraction.text import TfidfVectorizer\n",
    "\n",
    "from sklearn.metrics import accuracy_score, confusion_matrix\n",
    "from sklearn.metrics import precision_score\n",
    "from sklearn.metrics import recall_score\n",
    "from sklearn.metrics import f1_score\n",
    "from sklearn.model_selection import cross_val_score\n",
    "\n",
    "# Step 1: Data Collection\n",
    "# Assuming we have a list of policies and their corresponding labels\n",
    "df = pd.read_csv('dataset_testv2.csv', delimiter = ',')\n",
    "\n",
    "policies = df['original_text']\n",
    "labels = df['acceptable']\n",
    "\n",
    "# Step 2: Data Preprocessing and Labeling\n",
    "# No preprocessing needed as an example, but we can add text cleaning if required\n",
    "#policies = df['original_text'].apply(lambda x: ' '.join([word for word in x.split() if word not in (stop)]))\n",
    "\n",
    "# Step 3: Feature Extraction\n",
    "vectorizer = TfidfVectorizer(decode_error='replace', encoding='utf-8')\n",
    "X = vectorizer.fit_transform(policies.values.astype('U'))\n",
    "\n",
    "# Step 4: Model Training\n",
    "X_train, X_test, y_train, y_test = train_test_split(X, labels, test_size=0.2, random_state=42)\n",
    "\n",
    "classifier = DecisionTreeClassifier()\n",
    "trained_classifier=classifier.fit(X_train, y_train)\n",
    "predicted_label = trained_classifier.predict(X_test)\n",
    "\n",
    "#Evaluation of Trained Model                                    \n",
    "print('Confusion Matrix')\n",
    "cfm= confusion_matrix(y_test,predicted_label)\n",
    "print(cfm)\n",
    "print('---------')\n",
    "\n",
    "print('Classification Accuracy')\n",
    "accuracy=accuracy_score(y_test,predicted_label)\n",
    "print(accuracy)\n",
    "print('---------')\n",
    "\n",
    "print('Precision Score')\n",
    "precision11 = precision_score(y_test, predicted_label,average='macro')\n",
    "print(precision11)\n",
    "print('---------')\n",
    "\n",
    "print('Recall Score')\n",
    "recall = recall_score(y_test,predicted_label,average='macro')\n",
    "print(recall)\n",
    "print('---------')\n",
    "\n",
    "print('F1 Score')\n",
    "F1 = f1_score(y_test,predicted_label,average='macro')\n",
    "print(F1)\n",
    "print('---------')\n",
    "\n",
    "#Prediction\n",
    "new_policy = \"It does not track you!\"\n",
    "X_new = vectorizer.transform([new_policy])"
   ]
  },
  {
   "cell_type": "code",
   "execution_count": null,
   "id": "fffdcd5b",
   "metadata": {},
   "outputs": [],
   "source": []
  }
 ],
 "metadata": {
  "kernelspec": {
   "display_name": "Python 3 (ipykernel)",
   "language": "python",
   "name": "python3"
  },
  "language_info": {
   "codemirror_mode": {
    "name": "ipython",
    "version": 3
   },
   "file_extension": ".py",
   "mimetype": "text/x-python",
   "name": "python",
   "nbconvert_exporter": "python",
   "pygments_lexer": "ipython3",
   "version": "3.10.9"
  }
 },
 "nbformat": 4,
 "nbformat_minor": 5
}
